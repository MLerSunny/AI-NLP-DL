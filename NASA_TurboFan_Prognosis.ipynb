{
  "nbformat": 4,
  "nbformat_minor": 0,
  "metadata": {
    "colab": {
      "provenance": [],
      "gpuType": "T4",
      "mount_file_id": "1v1T32DrLuOstrz2CIvMIh0UY9meExmAa",
      "authorship_tag": "ABX9TyO7zl2M5xK+RObvrcS4H/9P"
    },
    "kernelspec": {
      "name": "python3",
      "display_name": "Python 3"
    },
    "language_info": {
      "name": "python"
    },
    "accelerator": "GPU"
  },
  "cells": [
    {
      "cell_type": "markdown",
      "source": [
        "Step 1: Setting up the Colab Environment"
      ],
      "metadata": {
        "id": "RCIJeYcTaeiw"
      }
    },
    {
      "cell_type": "code",
      "execution_count": null,
      "metadata": {
        "colab": {
          "base_uri": "https://localhost:8080/"
        },
        "collapsed": true,
        "id": "zDz1Kx_fIsfL",
        "outputId": "1bf55c43-6642-41c4-c30b-1790b58268dc"
      },
      "outputs": [
        {
          "output_type": "stream",
          "name": "stdout",
          "text": [
            "Drive already mounted at /content/drive; to attempt to forcibly remount, call drive.mount(\"/content/drive\", force_remount=True).\n",
            "Requirement already satisfied: pandas in /usr/local/lib/python3.10/dist-packages (2.2.2)\n",
            "Requirement already satisfied: matplotlib in /usr/local/lib/python3.10/dist-packages (3.8.0)\n",
            "Requirement already satisfied: scikit-learn in /usr/local/lib/python3.10/dist-packages (1.5.2)\n",
            "Requirement already satisfied: tensorflow in /usr/local/lib/python3.10/dist-packages (2.17.1)\n",
            "Requirement already satisfied: torch in /usr/local/lib/python3.10/dist-packages (2.5.1+cu121)\n",
            "Requirement already satisfied: numpy>=1.22.4 in /usr/local/lib/python3.10/dist-packages (from pandas) (1.26.4)\n",
            "Requirement already satisfied: python-dateutil>=2.8.2 in /usr/local/lib/python3.10/dist-packages (from pandas) (2.8.2)\n",
            "Requirement already satisfied: pytz>=2020.1 in /usr/local/lib/python3.10/dist-packages (from pandas) (2024.2)\n",
            "Requirement already satisfied: tzdata>=2022.7 in /usr/local/lib/python3.10/dist-packages (from pandas) (2024.2)\n",
            "Requirement already satisfied: contourpy>=1.0.1 in /usr/local/lib/python3.10/dist-packages (from matplotlib) (1.3.1)\n",
            "Requirement already satisfied: cycler>=0.10 in /usr/local/lib/python3.10/dist-packages (from matplotlib) (0.12.1)\n",
            "Requirement already satisfied: fonttools>=4.22.0 in /usr/local/lib/python3.10/dist-packages (from matplotlib) (4.55.0)\n",
            "Requirement already satisfied: kiwisolver>=1.0.1 in /usr/local/lib/python3.10/dist-packages (from matplotlib) (1.4.7)\n",
            "Requirement already satisfied: packaging>=20.0 in /usr/local/lib/python3.10/dist-packages (from matplotlib) (24.2)\n",
            "Requirement already satisfied: pillow>=6.2.0 in /usr/local/lib/python3.10/dist-packages (from matplotlib) (11.0.0)\n",
            "Requirement already satisfied: pyparsing>=2.3.1 in /usr/local/lib/python3.10/dist-packages (from matplotlib) (3.2.0)\n",
            "Requirement already satisfied: scipy>=1.6.0 in /usr/local/lib/python3.10/dist-packages (from scikit-learn) (1.13.1)\n",
            "Requirement already satisfied: joblib>=1.2.0 in /usr/local/lib/python3.10/dist-packages (from scikit-learn) (1.4.2)\n",
            "Requirement already satisfied: threadpoolctl>=3.1.0 in /usr/local/lib/python3.10/dist-packages (from scikit-learn) (3.5.0)\n",
            "Requirement already satisfied: absl-py>=1.0.0 in /usr/local/lib/python3.10/dist-packages (from tensorflow) (1.4.0)\n",
            "Requirement already satisfied: astunparse>=1.6.0 in /usr/local/lib/python3.10/dist-packages (from tensorflow) (1.6.3)\n",
            "Requirement already satisfied: flatbuffers>=24.3.25 in /usr/local/lib/python3.10/dist-packages (from tensorflow) (24.3.25)\n",
            "Requirement already satisfied: gast!=0.5.0,!=0.5.1,!=0.5.2,>=0.2.1 in /usr/local/lib/python3.10/dist-packages (from tensorflow) (0.6.0)\n",
            "Requirement already satisfied: google-pasta>=0.1.1 in /usr/local/lib/python3.10/dist-packages (from tensorflow) (0.2.0)\n",
            "Requirement already satisfied: h5py>=3.10.0 in /usr/local/lib/python3.10/dist-packages (from tensorflow) (3.12.1)\n",
            "Requirement already satisfied: libclang>=13.0.0 in /usr/local/lib/python3.10/dist-packages (from tensorflow) (18.1.1)\n",
            "Requirement already satisfied: ml-dtypes<0.5.0,>=0.3.1 in /usr/local/lib/python3.10/dist-packages (from tensorflow) (0.4.1)\n",
            "Requirement already satisfied: opt-einsum>=2.3.2 in /usr/local/lib/python3.10/dist-packages (from tensorflow) (3.4.0)\n",
            "Requirement already satisfied: protobuf!=4.21.0,!=4.21.1,!=4.21.2,!=4.21.3,!=4.21.4,!=4.21.5,<5.0.0dev,>=3.20.3 in /usr/local/lib/python3.10/dist-packages (from tensorflow) (4.25.5)\n",
            "Requirement already satisfied: requests<3,>=2.21.0 in /usr/local/lib/python3.10/dist-packages (from tensorflow) (2.32.3)\n",
            "Requirement already satisfied: setuptools in /usr/local/lib/python3.10/dist-packages (from tensorflow) (75.1.0)\n",
            "Requirement already satisfied: six>=1.12.0 in /usr/local/lib/python3.10/dist-packages (from tensorflow) (1.16.0)\n",
            "Requirement already satisfied: termcolor>=1.1.0 in /usr/local/lib/python3.10/dist-packages (from tensorflow) (2.5.0)\n",
            "Requirement already satisfied: typing-extensions>=3.6.6 in /usr/local/lib/python3.10/dist-packages (from tensorflow) (4.12.2)\n",
            "Requirement already satisfied: wrapt>=1.11.0 in /usr/local/lib/python3.10/dist-packages (from tensorflow) (1.16.0)\n",
            "Requirement already satisfied: grpcio<2.0,>=1.24.3 in /usr/local/lib/python3.10/dist-packages (from tensorflow) (1.68.0)\n",
            "Requirement already satisfied: tensorboard<2.18,>=2.17 in /usr/local/lib/python3.10/dist-packages (from tensorflow) (2.17.1)\n",
            "Requirement already satisfied: keras>=3.2.0 in /usr/local/lib/python3.10/dist-packages (from tensorflow) (3.5.0)\n",
            "Requirement already satisfied: tensorflow-io-gcs-filesystem>=0.23.1 in /usr/local/lib/python3.10/dist-packages (from tensorflow) (0.37.1)\n",
            "Requirement already satisfied: filelock in /usr/local/lib/python3.10/dist-packages (from torch) (3.16.1)\n",
            "Requirement already satisfied: networkx in /usr/local/lib/python3.10/dist-packages (from torch) (3.4.2)\n",
            "Requirement already satisfied: jinja2 in /usr/local/lib/python3.10/dist-packages (from torch) (3.1.4)\n",
            "Requirement already satisfied: fsspec in /usr/local/lib/python3.10/dist-packages (from torch) (2024.10.0)\n",
            "Requirement already satisfied: sympy==1.13.1 in /usr/local/lib/python3.10/dist-packages (from torch) (1.13.1)\n",
            "Requirement already satisfied: mpmath<1.4,>=1.1.0 in /usr/local/lib/python3.10/dist-packages (from sympy==1.13.1->torch) (1.3.0)\n",
            "Requirement already satisfied: wheel<1.0,>=0.23.0 in /usr/local/lib/python3.10/dist-packages (from astunparse>=1.6.0->tensorflow) (0.45.0)\n",
            "Requirement already satisfied: rich in /usr/local/lib/python3.10/dist-packages (from keras>=3.2.0->tensorflow) (13.9.4)\n",
            "Requirement already satisfied: namex in /usr/local/lib/python3.10/dist-packages (from keras>=3.2.0->tensorflow) (0.0.8)\n",
            "Requirement already satisfied: optree in /usr/local/lib/python3.10/dist-packages (from keras>=3.2.0->tensorflow) (0.13.1)\n",
            "Requirement already satisfied: charset-normalizer<4,>=2 in /usr/local/lib/python3.10/dist-packages (from requests<3,>=2.21.0->tensorflow) (3.4.0)\n",
            "Requirement already satisfied: idna<4,>=2.5 in /usr/local/lib/python3.10/dist-packages (from requests<3,>=2.21.0->tensorflow) (3.10)\n",
            "Requirement already satisfied: urllib3<3,>=1.21.1 in /usr/local/lib/python3.10/dist-packages (from requests<3,>=2.21.0->tensorflow) (2.2.3)\n",
            "Requirement already satisfied: certifi>=2017.4.17 in /usr/local/lib/python3.10/dist-packages (from requests<3,>=2.21.0->tensorflow) (2024.8.30)\n",
            "Requirement already satisfied: markdown>=2.6.8 in /usr/local/lib/python3.10/dist-packages (from tensorboard<2.18,>=2.17->tensorflow) (3.7)\n",
            "Requirement already satisfied: tensorboard-data-server<0.8.0,>=0.7.0 in /usr/local/lib/python3.10/dist-packages (from tensorboard<2.18,>=2.17->tensorflow) (0.7.2)\n",
            "Requirement already satisfied: werkzeug>=1.0.1 in /usr/local/lib/python3.10/dist-packages (from tensorboard<2.18,>=2.17->tensorflow) (3.1.3)\n",
            "Requirement already satisfied: MarkupSafe>=2.0 in /usr/local/lib/python3.10/dist-packages (from jinja2->torch) (3.0.2)\n",
            "Requirement already satisfied: markdown-it-py>=2.2.0 in /usr/local/lib/python3.10/dist-packages (from rich->keras>=3.2.0->tensorflow) (3.0.0)\n",
            "Requirement already satisfied: pygments<3.0.0,>=2.13.0 in /usr/local/lib/python3.10/dist-packages (from rich->keras>=3.2.0->tensorflow) (2.18.0)\n",
            "Requirement already satisfied: mdurl~=0.1 in /usr/local/lib/python3.10/dist-packages (from markdown-it-py>=2.2.0->rich->keras>=3.2.0->tensorflow) (0.1.2)\n"
          ]
        }
      ],
      "source": [
        "# Mount Google Drive to save data\n",
        "from google.colab import drive\n",
        "drive.mount('/content/drive')\n",
        "\n",
        "# Install necessary libraries\n",
        "!pip install pandas matplotlib scikit-learn tensorflow torch\n"
      ]
    },
    {
      "cell_type": "markdown",
      "source": [
        "Step 2: Download and Prepare Dataset\n"
      ],
      "metadata": {
        "id": "aNxd4IUkab7R"
      }
    },
    {
      "cell_type": "code",
      "source": [
        "import pandas as pd\n",
        "import zipfile\n",
        "import os\n",
        "\n",
        "# Unzip the dataset (adjust path based on your Drive structure)\n",
        "zip_path = '/content/drive/My Drive/CMAPSSData.zip'\n",
        "data_folder = '/content/drive/My Drive/CMAPSSData'\n",
        "\n",
        "if not os.path.exists(data_folder):\n",
        "    with zipfile.ZipFile(zip_path, 'r') as zip_ref:\n",
        "        zip_ref.extractall(data_folder)\n",
        "\n",
        "print(\"Dataset extracted successfully!\")\n"
      ],
      "metadata": {
        "colab": {
          "base_uri": "https://localhost:8080/"
        },
        "id": "82D1LCHvappP",
        "outputId": "09756ea4-a965-444c-e70b-c1873a0a7a80"
      },
      "execution_count": null,
      "outputs": [
        {
          "output_type": "stream",
          "name": "stdout",
          "text": [
            "Dataset extracted successfully!\n"
          ]
        }
      ]
    },
    {
      "cell_type": "markdown",
      "source": [
        "Step 3: Data Loading and Exploration\n",
        "python\n",
        "Copy code\n"
      ],
      "metadata": {
        "id": "Qo7V6Hkmbn27"
      }
    },
    {
      "cell_type": "code",
      "source": [
        "# Load a dataset file (FD001 is commonly used for testing)\n",
        "file_path = '/content/drive/My Drive/CMAPSSData/test_FD001.txt'\n",
        "\n",
        "# Column names for the dataset\n",
        "columns = ['unit_number', 'time_in_cycles'] + [f'operational_setting_{i}' for i in range(1, 4)] + \\\n",
        "          [f'sensor_measurement_{i}' for i in range(1, 22)]\n",
        "\n",
        "# Load the data\n",
        "data = pd.read_csv(file_path, sep=' ', header=None, names=columns, engine='python')\n",
        "data = data.dropna(axis=1)  # Remove unnamed empty columns\n",
        "\n",
        "print(data.head())\n"
      ],
      "metadata": {
        "colab": {
          "base_uri": "https://localhost:8080/"
        },
        "collapsed": true,
        "id": "CSVI7FLcbrwO",
        "outputId": "f49e0d8d-1243-4dd7-a8f9-50e79ac5ce93"
      },
      "execution_count": null,
      "outputs": [
        {
          "output_type": "stream",
          "name": "stdout",
          "text": [
            "     unit_number  time_in_cycles  operational_setting_1  \\\n",
            "1 1       0.0023          0.0003                  100.0   \n",
            "  2      -0.0027         -0.0003                  100.0   \n",
            "  3       0.0003          0.0001                  100.0   \n",
            "  4       0.0042          0.0000                  100.0   \n",
            "  5       0.0014          0.0000                  100.0   \n",
            "\n",
            "     operational_setting_2  operational_setting_3  sensor_measurement_1  \\\n",
            "1 1                 518.67                 643.02               1585.29   \n",
            "  2                 518.67                 641.71               1588.45   \n",
            "  3                 518.67                 642.46               1586.94   \n",
            "  4                 518.67                 642.44               1584.12   \n",
            "  5                 518.67                 642.51               1587.19   \n",
            "\n",
            "     sensor_measurement_2  sensor_measurement_3  sensor_measurement_4  \\\n",
            "1 1               1398.21                 14.62                 21.61   \n",
            "  2               1395.42                 14.62                 21.61   \n",
            "  3               1401.34                 14.62                 21.61   \n",
            "  4               1406.42                 14.62                 21.61   \n",
            "  5               1401.92                 14.62                 21.61   \n",
            "\n",
            "     sensor_measurement_5  ...  sensor_measurement_10  sensor_measurement_11  \\\n",
            "1 1                553.90  ...                 521.72                2388.03   \n",
            "  2                554.85  ...                 522.16                2388.06   \n",
            "  3                554.11  ...                 521.97                2388.03   \n",
            "  4                554.07  ...                 521.38                2388.05   \n",
            "  5                554.16  ...                 522.15                2388.03   \n",
            "\n",
            "     sensor_measurement_12  sensor_measurement_13  sensor_measurement_14  \\\n",
            "1 1                8125.55                 8.4052                   0.03   \n",
            "  2                8139.62                 8.3803                   0.03   \n",
            "  3                8130.10                 8.4441                   0.03   \n",
            "  4                8132.90                 8.3917                   0.03   \n",
            "  5                8129.54                 8.4031                   0.03   \n",
            "\n",
            "     sensor_measurement_15  sensor_measurement_16  sensor_measurement_17  \\\n",
            "1 1                    392                   2388                  100.0   \n",
            "  2                    393                   2388                  100.0   \n",
            "  3                    393                   2388                  100.0   \n",
            "  4                    391                   2388                  100.0   \n",
            "  5                    390                   2388                  100.0   \n",
            "\n",
            "     sensor_measurement_18  sensor_measurement_19  \n",
            "1 1                  38.86                23.3735  \n",
            "  2                  39.02                23.3916  \n",
            "  3                  39.08                23.4166  \n",
            "  4                  39.00                23.3737  \n",
            "  5                  38.99                23.4130  \n",
            "\n",
            "[5 rows x 24 columns]\n"
          ]
        }
      ]
    },
    {
      "cell_type": "markdown",
      "source": [
        "Step 4: Preprocessing"
      ],
      "metadata": {
        "id": "avCgjgVyckd_"
      }
    },
    {
      "cell_type": "code",
      "source": [
        "from sklearn.preprocessing import MinMaxScaler\n",
        "\n",
        "# Calculate the Remaining Useful Life (RUL)\n",
        "def add_rul(df):\n",
        "    # Get the maximum time_in_cycles for each unit\n",
        "    max_cycles = df.groupby('unit_number')['time_in_cycles'].transform('max')\n",
        "    # Calculate RUL using transform to align with original DataFrame\n",
        "    df['RUL'] = max_cycles - df['time_in_cycles']\n",
        "    return df\n",
        "\n",
        "data = add_rul(data)\n",
        "\n",
        "# Normalize sensor data\n",
        "sensor_columns = [col for col in data.columns if 'sensor_measurement' in col]\n",
        "scaler = MinMaxScaler()\n",
        "data[sensor_columns] = scaler.fit_transform(data[sensor_columns])\n",
        "\n",
        "print(data.head())"
      ],
      "metadata": {
        "colab": {
          "base_uri": "https://localhost:8080/"
        },
        "collapsed": true,
        "id": "rw6PD-t3cluP",
        "outputId": "692adc1f-b9e3-49ec-971e-71fa705d60dd"
      },
      "execution_count": null,
      "outputs": [
        {
          "output_type": "stream",
          "name": "stdout",
          "text": [
            "     unit_number  time_in_cycles  operational_setting_1  \\\n",
            "1 1       0.0023          0.0003                  100.0   \n",
            "  2      -0.0027         -0.0003                  100.0   \n",
            "  3       0.0003          0.0001                  100.0   \n",
            "  4       0.0042          0.0000                  100.0   \n",
            "  5       0.0014          0.0000                  100.0   \n",
            "\n",
            "     operational_setting_2  operational_setting_3  sensor_measurement_1  \\\n",
            "1 1                 518.67                 643.02              0.421968   \n",
            "  2                 518.67                 641.71              0.504025   \n",
            "  3                 518.67                 642.46              0.464814   \n",
            "  4                 518.67                 642.44              0.391587   \n",
            "  5                 518.67                 642.51              0.471306   \n",
            "\n",
            "     sensor_measurement_2  sensor_measurement_3  sensor_measurement_4  \\\n",
            "1 1              0.282214                   0.0                   1.0   \n",
            "  2              0.225240                   0.0                   1.0   \n",
            "  3              0.346130                   0.0                   1.0   \n",
            "  4              0.449867                   0.0                   1.0   \n",
            "  5              0.357974                   0.0                   1.0   \n",
            "\n",
            "     sensor_measurement_5  ...  sensor_measurement_11  sensor_measurement_12  \\\n",
            "1 1              0.608871  ...               0.325581               0.152259   \n",
            "  2              0.800403  ...               0.395349               0.277907   \n",
            "  3              0.651210  ...               0.325581               0.192892   \n",
            "  4              0.643145  ...               0.372093               0.217896   \n",
            "  5              0.661290  ...               0.325581               0.187891   \n",
            "\n",
            "     sensor_measurement_13  sensor_measurement_14  sensor_measurement_15  \\\n",
            "1 1               0.347076                    0.0                  0.375   \n",
            "  2               0.227709                    0.0                  0.500   \n",
            "  3               0.533557                    0.0                  0.500   \n",
            "  4               0.282359                    0.0                  0.250   \n",
            "  5               0.337009                    0.0                  0.125   \n",
            "\n",
            "     sensor_measurement_16  sensor_measurement_17  sensor_measurement_18  \\\n",
            "1 1                    0.0                    0.0               0.500000   \n",
            "  2                    0.0                    0.0               0.645455   \n",
            "  3                    0.0                    0.0               0.700000   \n",
            "  4                    0.0                    0.0               0.627273   \n",
            "  5                    0.0                    0.0               0.618182   \n",
            "\n",
            "     sensor_measurement_19     RUL  \n",
            "1 1               0.620099  0.0002  \n",
            "  2               0.645718  0.0009  \n",
            "  3               0.681104  0.0005  \n",
            "  4               0.620382  0.0005  \n",
            "  5               0.676008  0.0006  \n",
            "\n",
            "[5 rows x 25 columns]\n"
          ]
        }
      ]
    },
    {
      "cell_type": "markdown",
      "source": [
        "Step 5: Model Development in PyTorch"
      ],
      "metadata": {
        "id": "2xxzsdpSd_dD"
      }
    },
    {
      "cell_type": "code",
      "source": [],
      "metadata": {
        "id": "IQSOWaodeAW1"
      },
      "execution_count": null,
      "outputs": []
    },
    {
      "cell_type": "code",
      "source": [
        "import torch\n",
        "import torch.nn as nn\n",
        "from torch.utils.data import DataLoader, Dataset\n",
        "\n",
        "# Define a custom PyTorch Dataset\n",
        "class CMAPSSDataset(Dataset):\n",
        "    def __init__(self, data, sequence_length=30):\n",
        "        self.data = data\n",
        "        self.sequence_length = sequence_length\n",
        "        self.unit_numbers = data['unit_number'].unique()\n",
        "\n",
        "    def __len__(self):\n",
        "        return len(self.unit_numbers)\n",
        "\n",
        "    def __getitem__(self, idx):\n",
        "        unit_data = self.data[self.data['unit_number'] == self.unit_numbers[idx]]\n",
        "        sensor_data = unit_data[sensor_columns].values\n",
        "        rul = unit_data['RUL'].values\n",
        "        return torch.tensor(sensor_data[-self.sequence_length:], dtype=torch.float32), \\\n",
        "               torch.tensor(rul[-1], dtype=torch.float32)\n",
        "\n",
        "# Prepare PyTorch DataLoader\n",
        "sequence_length = 30\n",
        "dataset = CMAPSSDataset(data, sequence_length)\n",
        "dataloader = DataLoader(dataset, batch_size=32, shuffle=True)\n",
        "\n",
        "# Define an LSTM model\n",
        "class LSTMModel(nn.Module):\n",
        "    def __init__(self, input_size, hidden_size, num_layers, output_size):\n",
        "        super(LSTMModel, self).__init__()\n",
        "        self.lstm = nn.LSTM(input_size, hidden_size, num_layers, batch_first=True)\n",
        "        self.fc = nn.Linear(hidden_size, output_size)\n",
        "\n",
        "    def forward(self, x):\n",
        "        h, _ = self.lstm(x)\n",
        "        return self.fc(h[:, -1, :])\n",
        "\n",
        "# Initialize model, loss, and optimizer\n",
        "input_size = len(sensor_columns)\n",
        "hidden_size = 64\n",
        "num_layers = 2\n",
        "output_size = 1\n",
        "\n",
        "model = LSTMModel(input_size, hidden_size, num_layers, output_size)\n",
        "criterion = nn.MSELoss()\n",
        "optimizer = torch.optim.Adam(model.parameters(), lr=0.001)\n"
      ],
      "metadata": {
        "id": "u7AxOf37eBzp"
      },
      "execution_count": null,
      "outputs": []
    },
    {
      "cell_type": "markdown",
      "source": [
        "Step 6: Model Development in TensorFlow"
      ],
      "metadata": {
        "id": "cyUGuJMAeR6G"
      }
    },
    {
      "cell_type": "code",
      "source": [
        "import tensorflow as tf\n",
        "from tensorflow.keras.models import Sequential\n",
        "from tensorflow.keras.layers import LSTM, Dense\n",
        "from tensorflow.keras.layers import Input\n",
        "\n",
        "# Define a TensorFlow model\n",
        "tf_model = Sequential([\n",
        "       Input(shape=(sequence_length, len(sensor_columns))),\n",
        "       LSTM(64, activation='relu', return_sequences=False),\n",
        "       Dense(1)\n",
        "   ])\n",
        "\n",
        "tf_model.compile(optimizer='adam', loss='mse')\n",
        "\n",
        "# Prepare TensorFlow Dataset\n",
        "def create_tf_dataset(data, sequence_length):\n",
        "    features, labels = [], []\n",
        "    for unit_number in data['unit_number'].unique():\n",
        "        unit_data = data[data['unit_number'] == unit_number]\n",
        "        sensor_data = unit_data[sensor_columns].values\n",
        "        rul = unit_data['RUL'].values\n",
        "        for i in range(len(sensor_data) - sequence_length + 1):\n",
        "            features.append(sensor_data[i:i+sequence_length])\n",
        "            labels.append(rul[i+sequence_length-1])\n",
        "    return tf.data.Dataset.from_tensor_slices((features, labels)).batch(32)\n",
        "\n",
        "tf_dataset = create_tf_dataset(data, sequence_length)\n"
      ],
      "metadata": {
        "id": "X32t9Gu-eSpC"
      },
      "execution_count": null,
      "outputs": []
    },
    {
      "cell_type": "markdown",
      "source": [
        "Step 7: Training the Models"
      ],
      "metadata": {
        "id": "kTxyKEvafLXI"
      }
    },
    {
      "cell_type": "markdown",
      "source": [
        "PyTorch Training Loop:"
      ],
      "metadata": {
        "id": "grEjNOd3hd4n"
      }
    },
    {
      "cell_type": "code",
      "source": [
        "import torch\n",
        "import torch.nn as nn\n",
        "from torch.utils.data import DataLoader, Dataset\n",
        "import numpy as np  # Import numpy for padding\n",
        "\n",
        "epochs = 10\n",
        "\n",
        "class CMAPSSDataset(Dataset):\n",
        "    def __init__(self, data, sequence_length=30):\n",
        "        self.data = data\n",
        "        self.sequence_length = sequence_length\n",
        "        self.unit_numbers = data['unit_number'].unique()\n",
        "\n",
        "        # Calculate maximum sequence length\n",
        "        self.max_sequence_length = max(len(self.data[self.data['unit_number'] == unit_num]) for unit_num in self.unit_numbers)\n",
        "        # Update sequence length if calculated max sequence length is shorter than sequence_length\n",
        "        self.sequence_length = min(self.sequence_length, self.max_sequence_length)\n",
        "\n",
        "\n",
        "\n",
        "    def __len__(self):\n",
        "        return len(self.unit_numbers)\n",
        "\n",
        "    def __getitem__(self, idx):\n",
        "        unit_data = self.data[self.data['unit_number'] == self.unit_numbers[idx]]\n",
        "        sensor_data = unit_data[sensor_columns].values\n",
        "        rul = unit_data['RUL'].values\n",
        "\n",
        "        # Pad sensor data if sequence is shorter than sequence_length\n",
        "        if len(sensor_data) < self.sequence_length:\n",
        "            padding_shape = (self.sequence_length - len(sensor_data), sensor_data.shape[1])\n",
        "            padded_sensor_data = np.concatenate([np.zeros(padding_shape), sensor_data], axis=0)\n",
        "        else:\n",
        "            padded_sensor_data = sensor_data[-self.sequence_length:]\n",
        "\n",
        "        # Pad RUL values to match sensor data\n",
        "        # (only necessary if sequence_length is shorter than maximum sequence length)\n",
        "        if len(rul) < self.sequence_length:\n",
        "            padded_rul = np.concatenate([np.zeros(self.sequence_length - len(rul)), rul], axis=0)\n",
        "        else:\n",
        "            padded_rul = rul[-self.sequence_length:]\n",
        "\n",
        "\n",
        "        return torch.tensor(padded_sensor_data, dtype=torch.float32), \\\n",
        "               torch.tensor(padded_rul[-1], dtype=torch.float32)  # Take the last RUL value\n",
        "\n",
        "\n",
        "# Re-initialize the dataset and dataloader with padding\n",
        "dataset = CMAPSSDataset(data, sequence_length)  # Use the updated CMAPSSDataset\n",
        "dataloader = DataLoader(dataset, batch_size=32, shuffle=True)\n",
        "\n",
        "# Now you can proceed with training\n",
        "for epoch in range(epochs):\n",
        "    for batch_features, batch_labels in dataloader:\n",
        "        optimizer.zero_grad()\n",
        "        outputs = model(batch_features)\n",
        "        loss = criterion(outputs.squeeze(), batch_labels)\n",
        "        loss.backward()\n",
        "        optimizer.step()\n",
        "    print(f\"Epoch {epoch+1}/{epochs}, Loss: {loss.item()}\")\n",
        "\n"
      ],
      "metadata": {
        "colab": {
          "base_uri": "https://localhost:8080/"
        },
        "id": "QxV3kapffMIY",
        "outputId": "f8f61e73-a4fb-4f56-fef7-c18110ed4e36"
      },
      "execution_count": null,
      "outputs": [
        {
          "output_type": "stream",
          "name": "stdout",
          "text": [
            "Epoch 1/10, Loss: 0.0003196786274202168\n",
            "Epoch 2/10, Loss: 0.0011126822791993618\n",
            "Epoch 3/10, Loss: 0.00012354865611996502\n",
            "Epoch 4/10, Loss: 0.00044280357542447746\n",
            "Epoch 5/10, Loss: 9.336092625744641e-05\n",
            "Epoch 6/10, Loss: 9.12937757675536e-05\n",
            "Epoch 7/10, Loss: 5.608332867268473e-05\n",
            "Epoch 8/10, Loss: 4.759913736052113e-06\n",
            "Epoch 9/10, Loss: 2.803814822982531e-05\n",
            "Epoch 10/10, Loss: 5.917232101637637e-06\n"
          ]
        }
      ]
    },
    {
      "cell_type": "markdown",
      "source": [
        "TensorFlow Training:"
      ],
      "metadata": {
        "id": "dAv6pJqXhjDr"
      }
    },
    {
      "cell_type": "markdown",
      "source": [],
      "metadata": {
        "id": "7VBL1uMjh8Ke"
      }
    },
    {
      "cell_type": "code",
      "source": [
        "tf_model.fit(tf_dataset, epochs=10)\n"
      ],
      "metadata": {
        "colab": {
          "base_uri": "https://localhost:8080/"
        },
        "id": "aOvxb_2yhmGS",
        "outputId": "7ebf3f70-e734-4929-a491-e343a2a10c1b"
      },
      "execution_count": null,
      "outputs": [
        {
          "output_type": "stream",
          "name": "stdout",
          "text": [
            "Epoch 1/10\n",
            "\u001b[1m311/311\u001b[0m \u001b[32m━━━━━━━━━━━━━━━━━━━━\u001b[0m\u001b[37m\u001b[0m \u001b[1m8s\u001b[0m 21ms/step - loss: 2.8304e-04\n",
            "Epoch 2/10\n",
            "\u001b[1m311/311\u001b[0m \u001b[32m━━━━━━━━━━━━━━━━━━━━\u001b[0m\u001b[37m\u001b[0m \u001b[1m8s\u001b[0m 14ms/step - loss: 1.1217e-05\n",
            "Epoch 3/10\n",
            "\u001b[1m311/311\u001b[0m \u001b[32m━━━━━━━━━━━━━━━━━━━━\u001b[0m\u001b[37m\u001b[0m \u001b[1m7s\u001b[0m 22ms/step - loss: 5.0269e-06\n",
            "Epoch 4/10\n",
            "\u001b[1m311/311\u001b[0m \u001b[32m━━━━━━━━━━━━━━━━━━━━\u001b[0m\u001b[37m\u001b[0m \u001b[1m4s\u001b[0m 14ms/step - loss: 2.5554e-06\n",
            "Epoch 5/10\n",
            "\u001b[1m311/311\u001b[0m \u001b[32m━━━━━━━━━━━━━━━━━━━━\u001b[0m\u001b[37m\u001b[0m \u001b[1m5s\u001b[0m 15ms/step - loss: 1.4104e-06\n",
            "Epoch 6/10\n",
            "\u001b[1m311/311\u001b[0m \u001b[32m━━━━━━━━━━━━━━━━━━━━\u001b[0m\u001b[37m\u001b[0m \u001b[1m6s\u001b[0m 20ms/step - loss: 1.2574e-06\n",
            "Epoch 7/10\n",
            "\u001b[1m311/311\u001b[0m \u001b[32m━━━━━━━━━━━━━━━━━━━━\u001b[0m\u001b[37m\u001b[0m \u001b[1m4s\u001b[0m 14ms/step - loss: 1.4877e-06\n",
            "Epoch 8/10\n",
            "\u001b[1m311/311\u001b[0m \u001b[32m━━━━━━━━━━━━━━━━━━━━\u001b[0m\u001b[37m\u001b[0m \u001b[1m6s\u001b[0m 16ms/step - loss: 1.1928e-06\n",
            "Epoch 9/10\n",
            "\u001b[1m311/311\u001b[0m \u001b[32m━━━━━━━━━━━━━━━━━━━━\u001b[0m\u001b[37m\u001b[0m \u001b[1m6s\u001b[0m 19ms/step - loss: 9.2468e-07\n",
            "Epoch 10/10\n",
            "\u001b[1m311/311\u001b[0m \u001b[32m━━━━━━━━━━━━━━━━━━━━\u001b[0m\u001b[37m\u001b[0m \u001b[1m9s\u001b[0m 14ms/step - loss: 1.1739e-06\n"
          ]
        },
        {
          "output_type": "execute_result",
          "data": {
            "text/plain": [
              "<keras.src.callbacks.history.History at 0x7993b4313e80>"
            ]
          },
          "metadata": {},
          "execution_count": 19
        }
      ]
    },
    {
      "cell_type": "markdown",
      "source": [
        "# Step 8: Evaluation"
      ],
      "metadata": {
        "id": "5i_aNX8yh--J"
      }
    },
    {
      "cell_type": "markdown",
      "source": [
        "Evaluate PyTorch Model"
      ],
      "metadata": {
        "id": "0SZVXkrniClu"
      }
    },
    {
      "cell_type": "code",
      "source": [
        "# Evaluate PyTorch Model\n",
        "def evaluate_model_pytorch(model, dataloader, criterion):\n",
        "    model.eval()\n",
        "    total_loss = 0\n",
        "    with torch.no_grad():\n",
        "        for batch_features, batch_labels in dataloader:\n",
        "            outputs = model(batch_features)\n",
        "            loss = criterion(outputs.squeeze(), batch_labels)\n",
        "            total_loss += loss.item()\n",
        "    return total_loss / len(dataloader)\n",
        "\n",
        "# Create a DataLoader for evaluation\n",
        "test_dataset = CMAPSSDataset(data.sample(frac=0.2), sequence_length)\n",
        "test_dataloader = DataLoader(test_dataset, batch_size=32, shuffle=False)\n",
        "\n",
        "# Evaluate\n",
        "pytorch_loss = evaluate_model_pytorch(model, test_dataloader, criterion)\n",
        "print(f\"PyTorch Model Test Loss: {pytorch_loss}\")\n"
      ],
      "metadata": {
        "colab": {
          "base_uri": "https://localhost:8080/"
        },
        "id": "-icisp7RiF4o",
        "outputId": "c63893d9-3c1d-4024-cbe0-391ec1d280a2"
      },
      "execution_count": null,
      "outputs": [
        {
          "output_type": "stream",
          "name": "stdout",
          "text": [
            "PyTorch Model Test Loss: 9.810692677092448e-06\n"
          ]
        }
      ]
    },
    {
      "cell_type": "markdown",
      "source": [
        "Evaluate TensorFlow Model\n"
      ],
      "metadata": {
        "id": "hWvaq7RPiIj3"
      }
    },
    {
      "cell_type": "code",
      "source": [
        "# Evaluate TensorFlow Model\n",
        "def evaluate_model_tensorflow(tf_model, dataset):\n",
        "    total_loss = 0\n",
        "    for features, labels in dataset:\n",
        "        predictions = tf_model(features)\n",
        "        loss = tf.keras.losses.MeanSquaredError()(labels, predictions)\n",
        "        total_loss += loss.numpy()\n",
        "    return total_loss / len(dataset)\n",
        "\n",
        "# Evaluate\n",
        "tf_loss = evaluate_model_tensorflow(tf_model, tf_dataset)\n",
        "print(f\"TensorFlow Model Test Loss: {tf_loss}\")\n"
      ],
      "metadata": {
        "colab": {
          "base_uri": "https://localhost:8080/"
        },
        "id": "4PRT6F-kiKQS",
        "outputId": "29fe9a7d-19fc-4c34-dba8-cf2401a25971"
      },
      "execution_count": null,
      "outputs": [
        {
          "output_type": "stream",
          "name": "stdout",
          "text": [
            "TensorFlow Model Test Loss: 3.0715308931796206e-07\n"
          ]
        }
      ]
    },
    {
      "cell_type": "markdown",
      "source": [
        "Predict with PyTorch\n"
      ],
      "metadata": {
        "id": "yUv5ZcJAjQmK"
      }
    },
    {
      "cell_type": "code",
      "source": [
        "# Predict with PyTorch\n",
        "pytorch_predictions = []\n",
        "pytorch_labels = []\n",
        "model.eval()\n",
        "with torch.no_grad():\n",
        "    for batch_features, batch_labels in test_dataloader:\n",
        "        outputs = model(batch_features)\n",
        "        pytorch_predictions.extend(outputs.squeeze().numpy())\n",
        "        pytorch_labels.extend(batch_labels.numpy())\n"
      ],
      "metadata": {
        "id": "zxcyNa8-i2G5"
      },
      "execution_count": null,
      "outputs": []
    },
    {
      "cell_type": "markdown",
      "source": [
        "Predit with TensorFlow"
      ],
      "metadata": {
        "id": "j5forP50jCCR"
      }
    },
    {
      "cell_type": "code",
      "source": [
        "# Predict with TensorFlow\n",
        "tf_predictions = []\n",
        "tf_labels = []\n",
        "for features, labels in tf_dataset:\n",
        "    predictions = tf_model(features)\n",
        "    tf_predictions.extend(predictions.numpy().flatten())\n",
        "    tf_labels.extend(labels.numpy())\n",
        "\n"
      ],
      "metadata": {
        "id": "aQuzqf2gjGoT"
      },
      "execution_count": null,
      "outputs": []
    },
    {
      "cell_type": "markdown",
      "source": [
        "# Step 9: Visualization"
      ],
      "metadata": {
        "id": "Nf3WB8uejh-U"
      }
    },
    {
      "cell_type": "code",
      "source": [
        "import matplotlib.pyplot as plt\n",
        "\n",
        "plt.figure(figsize=(10, 5))\n",
        "plt.plot(pytorch_labels, label='True RUL', alpha=0.7)\n",
        "plt.plot(pytorch_predictions, label='PyTorch Predictions', alpha=0.7)\n",
        "plt.plot(tf_predictions, label='TensorFlow Predictions', alpha=0.7)\n",
        "plt.legend()\n",
        "plt.title('Comparison of Predictions')\n",
        "plt.xlabel('Data Point Index')\n",
        "plt.ylabel('RUL')\n",
        "plt.show()"
      ],
      "metadata": {
        "colab": {
          "base_uri": "https://localhost:8080/",
          "height": 487
        },
        "id": "hjuyW33OjnaK",
        "outputId": "ed64fe48-fda3-4cba-c306-17777d8f4862"
      },
      "execution_count": null,
      "outputs": [
        {
          "output_type": "display_data",
          "data": {
            "text/plain": [
              "<Figure size 1000x500 with 1 Axes>"
            ],
            "image/png": "[encoded data removed]"
          },
          "metadata": {}
        }
      ]
    }
  ]
}