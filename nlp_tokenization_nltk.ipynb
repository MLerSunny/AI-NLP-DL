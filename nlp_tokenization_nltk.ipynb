{
  "nbformat": 4,
  "nbformat_minor": 0,
  "metadata": {
    "colab": {
      "provenance": [],
      "authorship_tag": "ABX9TyNS9yacW/vwS3/0cdRzx5ew",
      "include_colab_link": true
    },
    "kernelspec": {
      "name": "python3",
      "display_name": "Python 3"
    },
    "language_info": {
      "name": "python"
    }
  },
  "cells": [
    {
      "cell_type": "markdown",
      "metadata": {
        "id": "view-in-github",
        "colab_type": "text"
      },
      "source": [
        "<a href=\"https://colab.research.google.com/github/MLerSunny/AI-NLP-DL/blob/main/nlp_tokenization_nltk.ipynb\" target=\"_parent\"><img src=\"https://colab.research.google.com/assets/colab-badge.svg\" alt=\"Open In Colab\"/></a>"
      ]
    },
    {
      "cell_type": "code",
      "source": [
        "# prompt: install nktk\n",
        "!pip install --upgrade --force-reinstall nltk\n",
        "import nltk\n",
        "nltk.download('punkt')\n",
        "nltk.download('punkt_tab')"
      ],
      "metadata": {
        "id": "hCSCOWiMGsvy",
        "outputId": "8ba4bdbf-2fe3-4864-923a-94536e3ed7ad",
        "colab": {
          "base_uri": "https://localhost:8080/"
        }
      },
      "execution_count": 1,
      "outputs": [
        {
          "output_type": "stream",
          "name": "stdout",
          "text": [
            "Collecting nltk\n",
            "  Using cached nltk-3.9.1-py3-none-any.whl.metadata (2.9 kB)\n",
            "Collecting click (from nltk)\n",
            "  Using cached click-8.1.8-py3-none-any.whl.metadata (2.3 kB)\n",
            "Collecting joblib (from nltk)\n",
            "  Using cached joblib-1.4.2-py3-none-any.whl.metadata (5.4 kB)\n",
            "Collecting regex>=2021.8.3 (from nltk)\n",
            "  Using cached regex-2024.11.6-cp311-cp311-manylinux_2_17_x86_64.manylinux2014_x86_64.whl.metadata (40 kB)\n",
            "Collecting tqdm (from nltk)\n",
            "  Using cached tqdm-4.67.1-py3-none-any.whl.metadata (57 kB)\n",
            "Using cached nltk-3.9.1-py3-none-any.whl (1.5 MB)\n",
            "Using cached regex-2024.11.6-cp311-cp311-manylinux_2_17_x86_64.manylinux2014_x86_64.whl (792 kB)\n",
            "Using cached click-8.1.8-py3-none-any.whl (98 kB)\n",
            "Using cached joblib-1.4.2-py3-none-any.whl (301 kB)\n",
            "Using cached tqdm-4.67.1-py3-none-any.whl (78 kB)\n",
            "Installing collected packages: tqdm, regex, joblib, click, nltk\n",
            "  Attempting uninstall: tqdm\n",
            "    Found existing installation: tqdm 4.67.1\n",
            "    Uninstalling tqdm-4.67.1:\n",
            "      Successfully uninstalled tqdm-4.67.1\n",
            "  Attempting uninstall: regex\n",
            "    Found existing installation: regex 2024.11.6\n",
            "    Uninstalling regex-2024.11.6:\n",
            "      Successfully uninstalled regex-2024.11.6\n",
            "  Attempting uninstall: joblib\n",
            "    Found existing installation: joblib 1.4.2\n",
            "    Uninstalling joblib-1.4.2:\n",
            "      Successfully uninstalled joblib-1.4.2\n",
            "  Attempting uninstall: click\n",
            "    Found existing installation: click 8.1.8\n",
            "    Uninstalling click-8.1.8:\n",
            "      Successfully uninstalled click-8.1.8\n",
            "  Attempting uninstall: nltk\n",
            "    Found existing installation: nltk 3.9.1\n",
            "    Uninstalling nltk-3.9.1:\n",
            "      Successfully uninstalled nltk-3.9.1\n",
            "Successfully installed click-8.1.8 joblib-1.4.2 nltk-3.9.1 regex-2024.11.6 tqdm-4.67.1\n"
          ]
        }
      ]
    },
    {
      "cell_type": "code",
      "source": [
        "corpus=\"\"\"Roadmap To Learn NLP!. Practical Usecase's Of NLP!. Tokenization And Basic-Terminologies. Tokenization Practicals!!. Text Preprocessing Stemming Using NLTK. Text Preprocessing Lemmatization USing NLTK, Stopwords, Parts Of Speech, NAmed Entity Recognition, Different types Of Encoding, Word Embedding, Word2vec, Skipgram Indepth Intuition, Average Word2vec With Implementation.\"\"\""
      ],
      "metadata": {
        "id": "OEG8WUw9IvI0"
      },
      "execution_count": 33,
      "outputs": []
    },
    {
      "cell_type": "code",
      "source": [
        "print (corpus)"
      ],
      "metadata": {
        "id": "on1qaQvWKXRP",
        "outputId": "d3919333-e89b-4894-8207-32f1234eba86",
        "colab": {
          "base_uri": "https://localhost:8080/"
        }
      },
      "execution_count": 34,
      "outputs": [
        {
          "output_type": "stream",
          "name": "stdout",
          "text": [
            "Roadmap To Learn NLP!. Practical Usecase's Of NLP!. Tokenization And Basic-Terminologies. Tokenization Practicals!!. Text Preprocessing Stemming Using NLTK. Text Preprocessing Lemmatization USing NLTK, Stopwords, Parts Of Speech, NAmed Entity Recognition, Different types Of Encoding, Word Embedding, Word2vec, Skipgram Indepth Intuition, Average Word2vec With Implementation.\n"
          ]
        }
      ]
    },
    {
      "cell_type": "code",
      "source": [
        "## Tokenization\n",
        "## Sentence--> Paragraph\n",
        "from nltk.tokenize import sent_tokenize\n",
        "sentences = sent_tokenize(corpus)"
      ],
      "metadata": {
        "id": "KwXkoloTJrSK"
      },
      "execution_count": 35,
      "outputs": []
    },
    {
      "cell_type": "code",
      "source": [
        "print(sentences)"
      ],
      "metadata": {
        "id": "swk5DY_FL0UR",
        "outputId": "97e64b15-7d68-4e42-fad9-f5f98d378df4",
        "colab": {
          "base_uri": "https://localhost:8080/"
        }
      },
      "execution_count": 36,
      "outputs": [
        {
          "output_type": "stream",
          "name": "stdout",
          "text": [
            "['Roadmap To Learn NLP!.', \"Practical Usecase's Of NLP!.\", 'Tokenization And Basic-Terminologies.', 'Tokenization Practicals!!.', 'Text Preprocessing Stemming Using NLTK.', 'Text Preprocessing Lemmatization USing NLTK, Stopwords, Parts Of Speech, NAmed Entity Recognition, Different types Of Encoding, Word Embedding, Word2vec, Skipgram Indepth Intuition, Average Word2vec With Implementation.']\n"
          ]
        }
      ]
    },
    {
      "cell_type": "code",
      "source": [
        "print(sentences[3])"
      ],
      "metadata": {
        "id": "gvpzIc7wMeve",
        "outputId": "8afe0a60-783a-41ca-cfa0-cf34b757a4e8",
        "colab": {
          "base_uri": "https://localhost:8080/"
        }
      },
      "execution_count": 37,
      "outputs": [
        {
          "output_type": "stream",
          "name": "stdout",
          "text": [
            "Tokenization Practicals!!.\n"
          ]
        }
      ]
    },
    {
      "cell_type": "code",
      "source": [
        "type(sentences)"
      ],
      "metadata": {
        "id": "500aAQF-U-1_",
        "outputId": "0feef061-59ee-493a-ad81-c646b2960ef2",
        "colab": {
          "base_uri": "https://localhost:8080/"
        }
      },
      "execution_count": 38,
      "outputs": [
        {
          "output_type": "execute_result",
          "data": {
            "text/plain": [
              "list"
            ]
          },
          "metadata": {},
          "execution_count": 38
        }
      ]
    },
    {
      "cell_type": "code",
      "source": [
        "from nltk.tokenize import word_tokenize\n",
        "words = word_tokenize(corpus)"
      ],
      "metadata": {
        "id": "iJ_zH1AtVIm8"
      },
      "execution_count": 39,
      "outputs": []
    },
    {
      "cell_type": "code",
      "source": [
        "print(words)"
      ],
      "metadata": {
        "id": "6FwG9c-PVPJ9",
        "outputId": "27bdec30-8817-47f2-e4d0-135618693150",
        "colab": {
          "base_uri": "https://localhost:8080/"
        }
      },
      "execution_count": 40,
      "outputs": [
        {
          "output_type": "stream",
          "name": "stdout",
          "text": [
            "['Roadmap', 'To', 'Learn', 'NLP', '!', '.', 'Practical', 'Usecase', \"'s\", 'Of', 'NLP', '!', '.', 'Tokenization', 'And', 'Basic-Terminologies', '.', 'Tokenization', 'Practicals', '!', '!', '.', 'Text', 'Preprocessing', 'Stemming', 'Using', 'NLTK', '.', 'Text', 'Preprocessing', 'Lemmatization', 'USing', 'NLTK', ',', 'Stopwords', ',', 'Parts', 'Of', 'Speech', ',', 'NAmed', 'Entity', 'Recognition', ',', 'Different', 'types', 'Of', 'Encoding', ',', 'Word', 'Embedding', ',', 'Word2vec', ',', 'Skipgram', 'Indepth', 'Intuition', ',', 'Average', 'Word2vec', 'With', 'Implementation', '.']\n"
          ]
        }
      ]
    },
    {
      "cell_type": "code",
      "source": [
        "for iw in words:\n",
        "  print(iw)"
      ],
      "metadata": {
        "id": "luJzt70XWdo3",
        "outputId": "55ae7fb4-1f72-4be3-ef31-534e0b9ba337",
        "colab": {
          "base_uri": "https://localhost:8080/"
        }
      },
      "execution_count": 41,
      "outputs": [
        {
          "output_type": "stream",
          "name": "stdout",
          "text": [
            "Roadmap\n",
            "To\n",
            "Learn\n",
            "NLP\n",
            "!\n",
            ".\n",
            "Practical\n",
            "Usecase\n",
            "'s\n",
            "Of\n",
            "NLP\n",
            "!\n",
            ".\n",
            "Tokenization\n",
            "And\n",
            "Basic-Terminologies\n",
            ".\n",
            "Tokenization\n",
            "Practicals\n",
            "!\n",
            "!\n",
            ".\n",
            "Text\n",
            "Preprocessing\n",
            "Stemming\n",
            "Using\n",
            "NLTK\n",
            ".\n",
            "Text\n",
            "Preprocessing\n",
            "Lemmatization\n",
            "USing\n",
            "NLTK\n",
            ",\n",
            "Stopwords\n",
            ",\n",
            "Parts\n",
            "Of\n",
            "Speech\n",
            ",\n",
            "NAmed\n",
            "Entity\n",
            "Recognition\n",
            ",\n",
            "Different\n",
            "types\n",
            "Of\n",
            "Encoding\n",
            ",\n",
            "Word\n",
            "Embedding\n",
            ",\n",
            "Word2vec\n",
            ",\n",
            "Skipgram\n",
            "Indepth\n",
            "Intuition\n",
            ",\n",
            "Average\n",
            "Word2vec\n",
            "With\n",
            "Implementation\n",
            ".\n"
          ]
        }
      ]
    },
    {
      "cell_type": "code",
      "source": [
        "from nltk.tokenize import wordpunct_tokenize\n",
        "word_punct = wordpunct_tokenize(corpus)"
      ],
      "metadata": {
        "id": "QL6Ew5exVRTh"
      },
      "execution_count": 42,
      "outputs": []
    },
    {
      "cell_type": "code",
      "source": [
        "print(word_punct)"
      ],
      "metadata": {
        "id": "2eFmEnSBVyX_",
        "outputId": "22f19957-c397-494f-f6b9-3cc39095da13",
        "colab": {
          "base_uri": "https://localhost:8080/"
        }
      },
      "execution_count": 43,
      "outputs": [
        {
          "output_type": "stream",
          "name": "stdout",
          "text": [
            "['Roadmap', 'To', 'Learn', 'NLP', '!.', 'Practical', 'Usecase', \"'\", 's', 'Of', 'NLP', '!.', 'Tokenization', 'And', 'Basic', '-', 'Terminologies', '.', 'Tokenization', 'Practicals', '!!.', 'Text', 'Preprocessing', 'Stemming', 'Using', 'NLTK', '.', 'Text', 'Preprocessing', 'Lemmatization', 'USing', 'NLTK', ',', 'Stopwords', ',', 'Parts', 'Of', 'Speech', ',', 'NAmed', 'Entity', 'Recognition', ',', 'Different', 'types', 'Of', 'Encoding', ',', 'Word', 'Embedding', ',', 'Word2vec', ',', 'Skipgram', 'Indepth', 'Intuition', ',', 'Average', 'Word2vec', 'With', 'Implementation', '.']\n"
          ]
        }
      ]
    },
    {
      "cell_type": "code",
      "source": [
        "for i in word_punct:\n",
        "  print(i)"
      ],
      "metadata": {
        "id": "Z-btFWpJWXPr",
        "outputId": "fea97d91-4d27-4e37-93be-81289360f2bb",
        "colab": {
          "base_uri": "https://localhost:8080/"
        }
      },
      "execution_count": 44,
      "outputs": [
        {
          "output_type": "stream",
          "name": "stdout",
          "text": [
            "Roadmap\n",
            "To\n",
            "Learn\n",
            "NLP\n",
            "!.\n",
            "Practical\n",
            "Usecase\n",
            "'\n",
            "s\n",
            "Of\n",
            "NLP\n",
            "!.\n",
            "Tokenization\n",
            "And\n",
            "Basic\n",
            "-\n",
            "Terminologies\n",
            ".\n",
            "Tokenization\n",
            "Practicals\n",
            "!!.\n",
            "Text\n",
            "Preprocessing\n",
            "Stemming\n",
            "Using\n",
            "NLTK\n",
            ".\n",
            "Text\n",
            "Preprocessing\n",
            "Lemmatization\n",
            "USing\n",
            "NLTK\n",
            ",\n",
            "Stopwords\n",
            ",\n",
            "Parts\n",
            "Of\n",
            "Speech\n",
            ",\n",
            "NAmed\n",
            "Entity\n",
            "Recognition\n",
            ",\n",
            "Different\n",
            "types\n",
            "Of\n",
            "Encoding\n",
            ",\n",
            "Word\n",
            "Embedding\n",
            ",\n",
            "Word2vec\n",
            ",\n",
            "Skipgram\n",
            "Indepth\n",
            "Intuition\n",
            ",\n",
            "Average\n",
            "Word2vec\n",
            "With\n",
            "Implementation\n",
            ".\n"
          ]
        }
      ]
    },
    {
      "cell_type": "code",
      "source": [
        "from nltk.tokenize import TreebankWordTokenizer\n",
        "tokenizer = TreebankWordTokenizer()\n",
        "tokenizer.tokenize(corpus)\n",
        "\n"
      ],
      "metadata": {
        "id": "eAScfWE4WqUz",
        "outputId": "1b18da40-d980-49b5-8181-741027b773a4",
        "colab": {
          "base_uri": "https://localhost:8080/"
        }
      },
      "execution_count": 47,
      "outputs": [
        {
          "output_type": "execute_result",
          "data": {
            "text/plain": [
              "['Roadmap',\n",
              " 'To',\n",
              " 'Learn',\n",
              " 'NLP',\n",
              " '!',\n",
              " '.',\n",
              " 'Practical',\n",
              " 'Usecase',\n",
              " \"'s\",\n",
              " 'Of',\n",
              " 'NLP',\n",
              " '!',\n",
              " '.',\n",
              " 'Tokenization',\n",
              " 'And',\n",
              " 'Basic-Terminologies.',\n",
              " 'Tokenization',\n",
              " 'Practicals',\n",
              " '!',\n",
              " '!',\n",
              " '.',\n",
              " 'Text',\n",
              " 'Preprocessing',\n",
              " 'Stemming',\n",
              " 'Using',\n",
              " 'NLTK.',\n",
              " 'Text',\n",
              " 'Preprocessing',\n",
              " 'Lemmatization',\n",
              " 'USing',\n",
              " 'NLTK',\n",
              " ',',\n",
              " 'Stopwords',\n",
              " ',',\n",
              " 'Parts',\n",
              " 'Of',\n",
              " 'Speech',\n",
              " ',',\n",
              " 'NAmed',\n",
              " 'Entity',\n",
              " 'Recognition',\n",
              " ',',\n",
              " 'Different',\n",
              " 'types',\n",
              " 'Of',\n",
              " 'Encoding',\n",
              " ',',\n",
              " 'Word',\n",
              " 'Embedding',\n",
              " ',',\n",
              " 'Word2vec',\n",
              " ',',\n",
              " 'Skipgram',\n",
              " 'Indepth',\n",
              " 'Intuition',\n",
              " ',',\n",
              " 'Average',\n",
              " 'Word2vec',\n",
              " 'With',\n",
              " 'Implementation',\n",
              " '.']"
            ]
          },
          "metadata": {},
          "execution_count": 47
        }
      ]
    }
  ]
}